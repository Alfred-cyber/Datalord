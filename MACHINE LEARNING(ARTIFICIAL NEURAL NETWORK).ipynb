{
 "cells": [
  {
   "cell_type": "code",
   "execution_count": 1,
   "id": "e592c9be",
   "metadata": {},
   "outputs": [
    {
     "ename": "ModuleNotFoundError",
     "evalue": "No module named 'tensorflow'",
     "output_type": "error",
     "traceback": [
      "\u001b[1;31m---------------------------------------------------------------------------\u001b[0m",
      "\u001b[1;31mModuleNotFoundError\u001b[0m                       Traceback (most recent call last)",
      "Input \u001b[1;32mIn [1]\u001b[0m, in \u001b[0;36m<cell line: 4>\u001b[1;34m()\u001b[0m\n\u001b[0;32m      2\u001b[0m \u001b[38;5;28;01mimport\u001b[39;00m \u001b[38;5;21;01mpandas\u001b[39;00m \u001b[38;5;28;01mas\u001b[39;00m \u001b[38;5;21;01mpd\u001b[39;00m\n\u001b[0;32m      3\u001b[0m \u001b[38;5;28;01mimport\u001b[39;00m \u001b[38;5;21;01mmatplotlib\u001b[39;00m\u001b[38;5;21;01m.\u001b[39;00m\u001b[38;5;21;01mpyplot\u001b[39;00m \u001b[38;5;28;01mas\u001b[39;00m \u001b[38;5;21;01mplt\u001b[39;00m\n\u001b[1;32m----> 4\u001b[0m \u001b[38;5;28;01mimport\u001b[39;00m \u001b[38;5;21;01mtensorflow\u001b[39;00m \u001b[38;5;28;01mas\u001b[39;00m \u001b[38;5;21;01mtf\u001b[39;00m\n\u001b[0;32m      5\u001b[0m \u001b[38;5;28;01mfrom\u001b[39;00m \u001b[38;5;21;01mtensorflow\u001b[39;00m \u001b[38;5;28;01mimport\u001b[39;00m keras\n\u001b[0;32m      6\u001b[0m \u001b[38;5;28;01mfrom\u001b[39;00m \u001b[38;5;21;01msklearn\u001b[39;00m\u001b[38;5;21;01m.\u001b[39;00m\u001b[38;5;21;01mmodel_selection\u001b[39;00m \u001b[38;5;28;01mimport\u001b[39;00m train_test_split\n",
      "\u001b[1;31mModuleNotFoundError\u001b[0m: No module named 'tensorflow'"
     ]
    }
   ],
   "source": [
    "import numpy as np\n",
    "import pandas as pd\n",
    "import matplotlib.pyplot as plt\n",
    "import tensorflow as tf\n",
    "from tensorflow import keras\n",
    "from sklearn.model_selection import train_test_split"
   ]
  },
  {
   "cell_type": "code",
   "execution_count": null,
   "id": "a071605c",
   "metadata": {},
   "outputs": [],
   "source": [
    "mushroom_df = pd.read_csv(r'C:\\Users\\user\\AppData\\Local\\Temp\\Rar$DIa0.147\\mushrooms.csv')\n",
    "print(mushroom_df.head(5))"
   ]
  },
  {
   "cell_type": "markdown",
   "id": "58b18141",
   "metadata": {},
   "source": [
    "print(mushroom_df.shape)"
   ]
  },
  {
   "cell_type": "code",
   "execution_count": null,
   "id": "076f87c1",
   "metadata": {},
   "outputs": [],
   "source": [
    "mushroom_df.describe()"
   ]
  },
  {
   "cell_type": "code",
   "execution_count": null,
   "id": "29b44c6b",
   "metadata": {},
   "outputs": [],
   "source": [
    "mushroom_df.groupby(['class', 'odor']).count()"
   ]
  },
  {
   "cell_type": "code",
   "execution_count": null,
   "id": "1a87cf17",
   "metadata": {},
   "outputs": [],
   "source": [
    "labels = mushroom_df['class']\n",
    "features = mushroom_df.drop(columns = ['class'])"
   ]
  },
  {
   "cell_type": "code",
   "execution_count": null,
   "id": "4be048eb",
   "metadata": {},
   "outputs": [],
   "source": [
    "print(labels[0:5])"
   ]
  },
  {
   "cell_type": "code",
   "execution_count": null,
   "id": "023f0f8a",
   "metadata": {},
   "outputs": [],
   "source": [
    "print(features[0:5])"
   ]
  },
  {
   "cell_type": "code",
   "execution_count": null,
   "id": "aff0cef1",
   "metadata": {},
   "outputs": [],
   "source": [
    "labels.replace('p', 0, inplace=True)\n",
    "labels.replace('e', 1, inplace=True)\n",
    "print(labels[0:5])"
   ]
  },
  {
   "cell_type": "code",
   "execution_count": null,
   "id": "cc7324a6",
   "metadata": {},
   "outputs": [],
   "source": [
    "features = pd.get_dummies(features)\n",
    "print(features[0:5])"
   ]
  },
  {
   "cell_type": "code",
   "execution_count": null,
   "id": "d28fc8f6",
   "metadata": {},
   "outputs": [],
   "source": [
    "features = features.values.astype('float32')\n",
    "labels = labels.values.astype('float32')"
   ]
  },
  {
   "cell_type": "code",
   "execution_count": null,
   "id": "2716517a",
   "metadata": {},
   "outputs": [],
   "source": [
    "features_train, features_test, labels_train, labels_test = train_test_split(features, labels, test_size=0.2)\n",
    "features_train, features_validation, labels_train, labels_validation = train_test_split(features_train, labels_train, test_size=0.2)"
   ]
  },
  {
   "cell_type": "code",
   "execution_count": null,
   "id": "0bceb70a",
   "metadata": {},
   "outputs": [],
   "source": [
    "model = keras.Sequential([keras.layers.Dense(32, input_shape=(117,)),\n",
    "                         keras.layers.Dense(20, activation=tf.nn.relu),\n",
    "                         keras.layers.Dense(2, activation='softmax')])"
   ]
  },
  {
   "cell_type": "code",
   "execution_count": null,
   "id": "3d81133c",
   "metadata": {},
   "outputs": [],
   "source": [
    "model.compile(optimizer='adam',\n",
    "             loss='sparse_categorical_crossentropy',\n",
    "             metrics='acc')"
   ]
  },
  {
   "cell_type": "code",
   "execution_count": null,
   "id": "331b95f3",
   "metadata": {},
   "outputs": [],
   "source": [
    "history = model.fit(features_train, labels_train, epochs=20, validation_data=(features_validation, labels_validation))"
   ]
  },
  {
   "cell_type": "code",
   "execution_count": null,
   "id": "0290bdc8",
   "metadata": {},
   "outputs": [],
   "source": [
    "prediction_features = model.predict(features_test)\n",
    "performance = model.evaluate(features_test, labels_test)\n",
    "print(performance)"
   ]
  },
  {
   "cell_type": "code",
   "execution_count": null,
   "id": "c15ad6e4",
   "metadata": {},
   "outputs": [],
   "source": [
    "#let me test the fitting of this model\n",
    "history_dict = history.history\n",
    "print(history_dict.keys())"
   ]
  },
  {
   "cell_type": "code",
   "execution_count": null,
   "id": "1be1c831",
   "metadata": {},
   "outputs": [],
   "source": [
    "#lets check for overfit\n",
    "acc = history_dict['acc']\n",
    "val_acc = history_dict['val_acc']\n",
    "loss = history_dict['loss']\n",
    "val_loss = history_dict['val_loss']\n",
    "\n",
    "epochs = range(1, len(acc) + 1)\n",
    "\n",
    "#\"bo\" is for blue dot\n",
    "plt.plot(epochs, loss, 'bo', label='Training loss')\n",
    "#\"b\" is for solid blue line\n",
    "plt.plot(epochs, val_loss, 'b', label='Validation loss')\n",
    "plt.title('Training and validation loss')\n",
    "plt.xlabel('Epochs')\n",
    "plt.ylabel('Loss')\n",
    "plt.legend()\n",
    "\n",
    "plt.show()"
   ]
  }
 ],
 "metadata": {
  "kernelspec": {
   "display_name": "Python 3 (ipykernel)",
   "language": "python",
   "name": "python3"
  },
  "language_info": {
   "codemirror_mode": {
    "name": "ipython",
    "version": 3
   },
   "file_extension": ".py",
   "mimetype": "text/x-python",
   "name": "python",
   "nbconvert_exporter": "python",
   "pygments_lexer": "ipython3",
   "version": "3.9.12"
  }
 },
 "nbformat": 4,
 "nbformat_minor": 5
}
