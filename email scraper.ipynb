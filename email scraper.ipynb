{
 "cells": [
  {
   "cell_type": "code",
   "execution_count": null,
   "id": "f0444aad",
   "metadata": {},
   "outputs": [],
   "source": [
    "#This python codes is used to scrape emails from websites\n",
    "#this can be done by importing selenium\n",
    "import re\n",
    "from selenium import webdriver\n",
    "chrome_driver = 'C:\\Program Files\\(select the folder you want to put your file)\\chromedriver.exe'\n",
    "driver = webdriver.Chrome(chrome_driver)\n",
    "driver.get(\"http://www.randomlist.com/email-addresses?qty=50\")\n",
    "#driver.close()\n",
    "page_source = driver.page_source\n",
    "EMAIL_REGEX = r'''#put regex pattern here'''\n",
    "list_of_emails = []\n",
    "for re_match in re.finditer(EMAIL_REGEX, page_source):\n",
    "    list_of_emails.append(re_match.group())\n",
    "for i email in enumerate(list_of_emails):\n",
    "    print(f'{i+1}: {email}')"
   ]
  }
 ],
 "metadata": {
  "kernelspec": {
   "display_name": "Python 3 (ipykernel)",
   "language": "python",
   "name": "python3"
  },
  "language_info": {
   "codemirror_mode": {
    "name": "ipython",
    "version": 3
   },
   "file_extension": ".py",
   "mimetype": "text/x-python",
   "name": "python",
   "nbconvert_exporter": "python",
   "pygments_lexer": "ipython3",
   "version": "3.9.12"
  }
 },
 "nbformat": 4,
 "nbformat_minor": 5
}
